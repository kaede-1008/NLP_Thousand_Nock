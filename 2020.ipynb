{
 "cells": [
  {
   "cell_type": "code",
   "execution_count": 1,
   "metadata": {},
   "outputs": [
    {
     "output_type": "stream",
     "name": "stdout",
     "text": "desserts\n"
    }
   ],
   "source": [
    "# 文字列の逆順\n",
    "text = 'stressed'\n",
    "print(text[::-1])"
   ]
  },
  {
   "cell_type": "code",
   "execution_count": 2,
   "metadata": {},
   "outputs": [
    {
     "output_type": "stream",
     "name": "stdout",
     "text": "パトカー\n"
    }
   ],
   "source": [
    "# 「パタトクカシーー」\n",
    "text = \"パタトクカシーー\"\n",
    "print(text[::2])"
   ]
  },
  {
   "cell_type": "code",
   "execution_count": 4,
   "metadata": {},
   "outputs": [
    {
     "output_type": "stream",
     "name": "stdout",
     "text": "パタトクカシーー\n"
    }
   ],
   "source": [
    "# 「パトカー」＋「タクシー」＝「パタトクカシーー」\n",
    "text1 = \"パトカー\"\n",
    "text2 = \"タクシー\"\n",
    "\n",
    "print(\"\".join(i+j for i, j in zip(text1, text2)))"
   ]
  },
  {
   "cell_type": "code",
   "execution_count": 13,
   "metadata": {},
   "outputs": [
    {
     "output_type": "stream",
     "name": "stdout",
     "text": "[3, 1, 4, 1, 5, 9, 2, 6, 5, 3, 5, 8, 9, 7, 9]\n"
    }
   ],
   "source": [
    "# 円周率\n",
    "text = \"Now I need a drink, alcoholic of course, after the heavy lectures involving quantum mechanics.\"\n",
    "\n",
    "ans = [len(i.strip(\".,\")) for i in text.split()]\n",
    "print(ans)"
   ]
  },
  {
   "cell_type": "code",
   "execution_count": 20,
   "metadata": {},
   "outputs": [
    {
     "output_type": "stream",
     "name": "stdout",
     "text": "{'H': 1, 'He': 2, 'Li': 3, 'Be': 4, 'B': 5, 'C': 6, 'N': 7, 'O': 8, 'F': 9, 'Ne': 10, 'Na': 11, 'Mi': 12, 'Al': 13, 'Si': 14, 'P': 15, 'S': 16, 'Cl': 17, 'Ar': 18, 'K': 19, 'Ca': 20}\n"
    }
   ],
   "source": [
    "# 元素記号\n",
    "text = \"Hi He Lied Because Boron Could Not Oxidize Fluorine. New Nations Might Also Sign Peace Security Clause. Arthur King Can.\"\n",
    "ans = {word[:2-(i in [1, 5, 6, 7, 8, 9, 15, 16, 19])]: i for i, word in enumerate(text.replace(\".\", \"\").split(), 1)}\n",
    "print(ans)"
   ]
  },
  {
   "cell_type": "code",
   "execution_count": 2,
   "metadata": {},
   "outputs": [
    {
     "output_type": "stream",
     "name": "stdout",
     "text": "['I', ' ', 'a', 'm', ' ', 'a', 'n', ' ', 'N', 'L', 'P', 'e', 'r']\n[['I'], ['am'], ['an'], ['NLPer']]\n['I ', ' a', 'am', 'm ', ' a', 'an', 'n ', ' N', 'NL', 'LP', 'Pe', 'er']\n[['I', 'am'], ['am', 'an'], ['an', 'NLPer']]\n['I a', ' am', 'am ', 'm a', ' an', 'an ', 'n N', ' NL', 'NLP', 'LPe', 'Per']\n[['I', 'am', 'an'], ['am', 'an', 'NLPer']]\n"
    }
   ],
   "source": [
    "# n-gram\n",
    "def n_gram(target, n):\n",
    "    return [target[idx:idx + n] for idx in range(len(target) - n + 1)]\n",
    "\n",
    "\n",
    "text = 'I am an NLPer'\n",
    "for i in range(1, 4):\n",
    "    print(n_gram(text, i))\n",
    "    print(n_gram(text.split(' '), i))\n"
   ]
  },
  {
   "cell_type": "code",
   "execution_count": 3,
   "metadata": {},
   "outputs": [
    {
     "output_type": "stream",
     "name": "stdout",
     "text": "和集合: {'is', 'se', 'ag', 'ap', 'ad', 'gr', 'ar', 'ra', 'di', 'pa', 'ph'}\n積集合: {'ar', 'ra', 'ap', 'pa'}\n差集合: {'se', 'di', 'is', 'ad'}\nFalse\n"
    }
   ],
   "source": [
    "# 集合\n",
    "\n",
    "X_text = 'paraparaparadise'\n",
    "Y_text = 'paragraph'\n",
    "X = n_gram(X_text, 2)\n",
    "Y = n_gram(Y_text, 2)\n",
    "\n",
    "print(f'和集合: {set(X) | set(Y)}')\n",
    "print(f'積集合: {set(X) & set(Y)}')\n",
    "print(f'差集合: {set(X) - set(Y)}')\n",
    "print('se' in (set(X) & set(Y)))\n"
   ]
  },
  {
   "cell_type": "code",
   "execution_count": 4,
   "metadata": {},
   "outputs": [
    {
     "output_type": "stream",
     "name": "stdout",
     "text": "12時の気温は22.4\n"
    }
   ],
   "source": [
    "# テンプレートによる文生成\n",
    "\n",
    "def gen_text(x, y, z):\n",
    "    return f'{x}時の{y}は{z}'\n",
    "\n",
    "x = 12\n",
    "y = '気温'\n",
    "z = 22.4\n",
    "print(gen_text(x, y, z))\n"
   ]
  },
  {
   "cell_type": "code",
   "execution_count": 5,
   "metadata": {},
   "outputs": [
    {
     "output_type": "stream",
     "name": "stdout",
     "text": "gsrh rh z nvhhztv.\nthis is a message.\n"
    }
   ],
   "source": [
    "# 暗号文\n",
    "\n",
    "def cipher(text):\n",
    "    text = [chr(219 - ord(w)) if 97 <= ord(w) <= 122 else w for w in text]\n",
    "    return ''.join(text)\n",
    "\n",
    "\n",
    "text = 'this is a message.'\n",
    "ans = cipher(text)\n",
    "print(ans)\n",
    "ans = cipher(ans)\n",
    "print(ans)"
   ]
  },
  {
   "cell_type": "code",
   "execution_count": 6,
   "metadata": {},
   "outputs": [
    {
     "output_type": "stream",
     "name": "stdout",
     "text": "['I', 'c’dnolut', 'bieelve', 'that', 'I', 'cloud', 'atullcay', 'unedrtsnad', 'what', 'I', 'was', 'riednag', ':', 'the', 'phaoenenml', 'power', 'of', 'the', 'hmuan', 'mind', '.']\n"
    }
   ],
   "source": [
    "# Typoglycemia\n",
    "\n",
    "import random\n",
    "\n",
    "\n",
    "def shuffleWord(word):\n",
    "    if len(word) <= 4:\n",
    "        return word\n",
    "    else:\n",
    "        start = word[0]\n",
    "        end = word[-1]\n",
    "        others = random.sample(list(word[1:-1]), len(word[1:-1]))\n",
    "        return ''.join([start] + others + [end])\n",
    "\n",
    "\n",
    "text = 'I couldn’t believe that I could actually understand what I was reading : the phenomenal power of the human mind .'\n",
    "ans = [shuffleWord(w) for w in text.split()]\n",
    "print(ans)"
   ]
  },
  {
   "cell_type": "code",
   "execution_count": 12,
   "metadata": {},
   "outputs": [
    {
     "output_type": "stream",
     "name": "stdout",
     "text": "2780\n"
    }
   ],
   "source": [
    "# 行数のカウント\n",
    "\n",
    "import pandas as pd\n",
    "\n",
    "df = pd.read_csv('./popular-names.txt', sep='\\t', header=None)\n",
    "\n",
    "print(len(df))"
   ]
  },
  {
   "cell_type": "code",
   "execution_count": 15,
   "metadata": {},
   "outputs": [],
   "source": [
    "# タブをスペースに変換\n",
    "\n",
    "import pandas as pd\n",
    "\n",
    "df = pd.read_csv('./popular-names.txt', sep='\\t', header=None)\n",
    "df.to_csv('ans11.txt', sep=' ', index=False, header=None)"
   ]
  },
  {
   "cell_type": "code",
   "execution_count": 13,
   "metadata": {},
   "outputs": [],
   "source": [
    "# 1列目をcol1.txtに2列目をcol2.txtに保存\n",
    "\n",
    "import pandas as pd\n",
    "\n",
    "df = pd.read_csv('./popular-names.txt', sep='\\t', header=None)\n",
    "df[0].to_csv('col1.txt', index=False, header=None)\n",
    "df[1].to_csv('col2.txt', index=False, header=None)"
   ]
  },
  {
   "cell_type": "code",
   "execution_count": 14,
   "metadata": {},
   "outputs": [],
   "source": [
    "# col1.txtとcol2.txtをマージ\n",
    "import pandas as pd\n",
    "\n",
    "c1 = pd.read_csv('col1.txt', header=None)\n",
    "c2 = pd.read_csv('col2.txt', header=None)\n",
    "\n",
    "df = pd.concat([c1, c2], axis=1)\n",
    "df.to_csv('ans13.txt', sep='\\t', index=False, header=None)"
   ]
  },
  {
   "cell_type": "code",
   "execution_count": 17,
   "metadata": {},
   "outputs": [
    {
     "output_type": "stream",
     "name": "stdout",
     "text": "-f\n              0  1      2     3\n0          Mary  F   7065  1880\n1          Anna  F   2604  1880\n2          Emma  F   2003  1880\n3     Elizabeth  F   1939  1880\n4        Minnie  F   1746  1880\n5      Margaret  F   1578  1880\n6           Ida  F   1472  1880\n7         Alice  F   1414  1880\n8        Bertha  F   1320  1880\n9         Sarah  F   1288  1880\n10         John  M   9655  1880\n11      William  M   9532  1880\n12        James  M   5927  1880\n13      Charles  M   5348  1880\n14       George  M   5126  1880\n15        Frank  M   3242  1880\n16       Joseph  M   2632  1880\n17       Thomas  M   2534  1880\n18        Henry  M   2444  1880\n19       Robert  M   2415  1880\n20         Mary  F   6919  1881\n21         Anna  F   2698  1881\n22         Emma  F   2034  1881\n23    Elizabeth  F   1852  1881\n24     Margaret  F   1658  1881\n25       Minnie  F   1653  1881\n26          Ida  F   1439  1881\n27        Annie  F   1326  1881\n28       Bertha  F   1324  1881\n29        Alice  F   1308  1881\n...         ... ..    ...   ...\n2750       Liam  M  18798  2017\n2751       Noah  M  18410  2017\n2752    William  M  14967  2017\n2753      James  M  14291  2017\n2754      Logan  M  14014  2017\n2755   Benjamin  M  13797  2017\n2756      Mason  M  13549  2017\n2757     Elijah  M  13344  2017\n2758     Oliver  M  13193  2017\n2759      Jacob  M  13178  2017\n2760       Emma  F  18688  2018\n2761     Olivia  F  17921  2018\n2762        Ava  F  14924  2018\n2763   Isabella  F  14464  2018\n2764     Sophia  F  13928  2018\n2765  Charlotte  F  12940  2018\n2766        Mia  F  12642  2018\n2767     Amelia  F  12301  2018\n2768     Harper  F  10582  2018\n2769     Evelyn  F  10376  2018\n2770       Liam  M  19837  2018\n2771       Noah  M  18267  2018\n2772    William  M  14516  2018\n2773      James  M  13525  2018\n2774     Oliver  M  13389  2018\n2775   Benjamin  M  13381  2018\n2776     Elijah  M  12886  2018\n2777      Lucas  M  12585  2018\n2778      Mason  M  12435  2018\n2779      Logan  M  12352  2018\n\n[2780 rows x 4 columns]\n"
    }
   ],
   "source": [
    "# 先頭からN行を出力\n",
    "\n",
    "import sys\n",
    "import pandas as pd\n",
    "\n",
    "if len(sys.argv) == 1:\n",
    "    print('Set arg n, like \"python ans14.py 5\"')\n",
    "else:\n",
    "    n = int(sys.argv[1])\n",
    "    df = pd.read_csv('./popular-names.txt', sep='\\t', header=None)\n",
    "    print(df.head(n))"
   ]
  },
  {
   "cell_type": "code",
   "execution_count": 19,
   "metadata": {},
   "outputs": [
    {
     "output_type": "error",
     "ename": "ValueError",
     "evalue": "invalid literal for int() with base 10: '-f'",
     "traceback": [
      "\u001b[1;31m---------------------------------------------------------------------------\u001b[0m",
      "\u001b[1;31mValueError\u001b[0m                                Traceback (most recent call last)",
      "\u001b[1;32m<ipython-input-19-a48e76bf56e3>\u001b[0m in \u001b[0;36m<module>\u001b[1;34m()\u001b[0m\n\u001b[0;32m      7\u001b[0m     \u001b[0mprint\u001b[0m\u001b[1;33m(\u001b[0m\u001b[1;34m'Set arg n, like \"python ans15.py 5\"'\u001b[0m\u001b[1;33m)\u001b[0m\u001b[1;33m\u001b[0m\u001b[0m\n\u001b[0;32m      8\u001b[0m \u001b[1;32melse\u001b[0m\u001b[1;33m:\u001b[0m\u001b[1;33m\u001b[0m\u001b[0m\n\u001b[1;32m----> 9\u001b[1;33m     \u001b[0mn\u001b[0m \u001b[1;33m=\u001b[0m \u001b[0mint\u001b[0m\u001b[1;33m(\u001b[0m\u001b[0msys\u001b[0m\u001b[1;33m.\u001b[0m\u001b[0margv\u001b[0m\u001b[1;33m[\u001b[0m\u001b[1;36m1\u001b[0m\u001b[1;33m]\u001b[0m\u001b[1;33m)\u001b[0m\u001b[1;33m\u001b[0m\u001b[0m\n\u001b[0m\u001b[0;32m     10\u001b[0m     \u001b[0mdf\u001b[0m \u001b[1;33m=\u001b[0m \u001b[0mpd\u001b[0m\u001b[1;33m.\u001b[0m\u001b[0mread_csv\u001b[0m\u001b[1;33m(\u001b[0m\u001b[1;34m'./popular-names.txt'\u001b[0m\u001b[1;33m,\u001b[0m \u001b[0msep\u001b[0m\u001b[1;33m=\u001b[0m\u001b[1;34m'/t'\u001b[0m\u001b[1;33m,\u001b[0m \u001b[0mheader\u001b[0m\u001b[1;33m=\u001b[0m\u001b[1;32mNone\u001b[0m\u001b[1;33m)\u001b[0m\u001b[1;33m\u001b[0m\u001b[0m\n\u001b[0;32m     11\u001b[0m     \u001b[0mprint\u001b[0m\u001b[1;33m(\u001b[0m\u001b[0mdf\u001b[0m\u001b[1;33m.\u001b[0m\u001b[0mtail\u001b[0m\u001b[1;33m(\u001b[0m\u001b[0mn\u001b[0m\u001b[1;33m)\u001b[0m\u001b[1;33m)\u001b[0m\u001b[1;33m\u001b[0m\u001b[0m\n",
      "\u001b[1;31mValueError\u001b[0m: invalid literal for int() with base 10: '-f'"
     ]
    }
   ],
   "source": [
    "# 末尾のN行を出力\n",
    "\n",
    "import sys\n",
    "import pandas as pd\n",
    "\n",
    "if len(sys.argv) == 1:\n",
    "    print('Set arg n, like \"python ans15.py 5\"')\n",
    "else:\n",
    "    n = int(sys.argv[1])\n",
    "    df = pd.read_csv('./popular-names.txt', sep='/t', header=None)\n",
    "    print(df.tail(n))"
   ]
  },
  {
   "cell_type": "code",
   "execution_count": null,
   "metadata": {},
   "outputs": [],
   "source": []
  }
 ],
 "metadata": {
  "language_info": {
   "codemirror_mode": {
    "name": "ipython",
    "version": 3
   },
   "file_extension": ".py",
   "mimetype": "text/x-python",
   "name": "python",
   "nbconvert_exporter": "python",
   "pygments_lexer": "ipython3",
   "version": "3.6.4-final"
  },
  "orig_nbformat": 2,
  "kernelspec": {
   "name": "06459f97-dc20-4bca-b67d-a43c58ee31b1",
   "display_name": "'Python Interactive'"
  }
 },
 "nbformat": 4,
 "nbformat_minor": 2
}