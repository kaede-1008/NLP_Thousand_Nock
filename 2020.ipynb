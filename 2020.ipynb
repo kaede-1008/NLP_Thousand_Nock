{
 "cells": [
  {
   "cell_type": "code",
   "execution_count": 1,
   "metadata": {},
   "outputs": [
    {
     "output_type": "stream",
     "name": "stdout",
     "text": "desserts\n"
    }
   ],
   "source": [
    "# 文字列の逆順\n",
    "text = 'stressed'\n",
    "print(text[::-1])"
   ]
  },
  {
   "cell_type": "code",
   "execution_count": 2,
   "metadata": {},
   "outputs": [
    {
     "output_type": "stream",
     "name": "stdout",
     "text": "パトカー\n"
    }
   ],
   "source": [
    "# 「パタトクカシーー」\n",
    "text = \"パタトクカシーー\"\n",
    "print(text[::2])"
   ]
  },
  {
   "cell_type": "code",
   "execution_count": 4,
   "metadata": {},
   "outputs": [
    {
     "output_type": "stream",
     "name": "stdout",
     "text": "パタトクカシーー\n"
    }
   ],
   "source": [
    "# 「パトカー」＋「タクシー」＝「パタトクカシーー」\n",
    "text1 = \"パトカー\"\n",
    "text2 = \"タクシー\"\n",
    "\n",
    "print(\"\".join(i+j for i, j in zip(text1, text2)))"
   ]
  },
  {
   "cell_type": "code",
   "execution_count": 13,
   "metadata": {},
   "outputs": [
    {
     "output_type": "stream",
     "name": "stdout",
     "text": "[3, 1, 4, 1, 5, 9, 2, 6, 5, 3, 5, 8, 9, 7, 9]\n"
    }
   ],
   "source": [
    "# 円周率\n",
    "text = \"Now I need a drink, alcoholic of course, after the heavy lectures involving quantum mechanics.\"\n",
    "\n",
    "ans = [len(i.strip(\".,\")) for i in text.split()]\n",
    "print(ans)"
   ]
  },
  {
   "cell_type": "code",
   "execution_count": 20,
   "metadata": {},
   "outputs": [
    {
     "output_type": "stream",
     "name": "stdout",
     "text": "{'H': 1, 'He': 2, 'Li': 3, 'Be': 4, 'B': 5, 'C': 6, 'N': 7, 'O': 8, 'F': 9, 'Ne': 10, 'Na': 11, 'Mi': 12, 'Al': 13, 'Si': 14, 'P': 15, 'S': 16, 'Cl': 17, 'Ar': 18, 'K': 19, 'Ca': 20}\n"
    }
   ],
   "source": [
    "# 元素記号\n",
    "text = \"Hi He Lied Because Boron Could Not Oxidize Fluorine. New Nations Might Also Sign Peace Security Clause. Arthur King Can.\"\n",
    "ans = {word[:2-(i in [1, 5, 6, 7, 8, 9, 15, 16, 19])]: i for i, word in enumerate(text.replace(\".\", \"\").split(), 1)}\n",
    "print(ans)"
   ]
  },
  {
   "cell_type": "code",
   "execution_count": 2,
   "metadata": {},
   "outputs": [
    {
     "output_type": "stream",
     "name": "stdout",
     "text": "['I', ' ', 'a', 'm', ' ', 'a', 'n', ' ', 'N', 'L', 'P', 'e', 'r']\n[['I'], ['am'], ['an'], ['NLPer']]\n['I ', ' a', 'am', 'm ', ' a', 'an', 'n ', ' N', 'NL', 'LP', 'Pe', 'er']\n[['I', 'am'], ['am', 'an'], ['an', 'NLPer']]\n['I a', ' am', 'am ', 'm a', ' an', 'an ', 'n N', ' NL', 'NLP', 'LPe', 'Per']\n[['I', 'am', 'an'], ['am', 'an', 'NLPer']]\n"
    }
   ],
   "source": [
    "# n-gram\n",
    "def n_gram(target, n):\n",
    "    return [target[idx:idx + n] for idx in range(len(target) - n + 1)]\n",
    "\n",
    "\n",
    "text = 'I am an NLPer'\n",
    "for i in range(1, 4):\n",
    "    print(n_gram(text, i))\n",
    "    print(n_gram(text.split(' '), i))\n"
   ]
  },
  {
   "cell_type": "code",
   "execution_count": 3,
   "metadata": {},
   "outputs": [
    {
     "output_type": "stream",
     "name": "stdout",
     "text": "和集合: {'is', 'se', 'ag', 'ap', 'ad', 'gr', 'ar', 'ra', 'di', 'pa', 'ph'}\n積集合: {'ar', 'ra', 'ap', 'pa'}\n差集合: {'se', 'di', 'is', 'ad'}\nFalse\n"
    }
   ],
   "source": [
    "# 集合\n",
    "\n",
    "X_text = 'paraparaparadise'\n",
    "Y_text = 'paragraph'\n",
    "X = n_gram(X_text, 2)\n",
    "Y = n_gram(Y_text, 2)\n",
    "\n",
    "print(f'和集合: {set(X) | set(Y)}')\n",
    "print(f'積集合: {set(X) & set(Y)}')\n",
    "print(f'差集合: {set(X) - set(Y)}')\n",
    "print('se' in (set(X) & set(Y)))\n"
   ]
  },
  {
   "cell_type": "code",
   "execution_count": 4,
   "metadata": {},
   "outputs": [
    {
     "output_type": "stream",
     "name": "stdout",
     "text": "12時の気温は22.4\n"
    }
   ],
   "source": [
    "# テンプレートによる文生成\n",
    "\n",
    "def gen_text(x, y, z):\n",
    "    return f'{x}時の{y}は{z}'\n",
    "\n",
    "x = 12\n",
    "y = '気温'\n",
    "z = 22.4\n",
    "print(gen_text(x, y, z))\n"
   ]
  },
  {
   "cell_type": "code",
   "execution_count": 5,
   "metadata": {},
   "outputs": [
    {
     "output_type": "stream",
     "name": "stdout",
     "text": "gsrh rh z nvhhztv.\nthis is a message.\n"
    }
   ],
   "source": [
    "# 暗号文\n",
    "\n",
    "def cipher(text):\n",
    "    text = [chr(219 - ord(w)) if 97 <= ord(w) <= 122 else w for w in text]\n",
    "    return ''.join(text)\n",
    "\n",
    "\n",
    "text = 'this is a message.'\n",
    "ans = cipher(text)\n",
    "print(ans)\n",
    "ans = cipher(ans)\n",
    "print(ans)"
   ]
  },
  {
   "cell_type": "code",
   "execution_count": 6,
   "metadata": {},
   "outputs": [
    {
     "output_type": "stream",
     "name": "stdout",
     "text": "['I', 'c’dnolut', 'bieelve', 'that', 'I', 'cloud', 'atullcay', 'unedrtsnad', 'what', 'I', 'was', 'riednag', ':', 'the', 'phaoenenml', 'power', 'of', 'the', 'hmuan', 'mind', '.']\n"
    }
   ],
   "source": [
    "# Typoglycemia\n",
    "\n",
    "import random\n",
    "\n",
    "\n",
    "def shuffleWord(word):\n",
    "    if len(word) <= 4:\n",
    "        return word\n",
    "    else:\n",
    "        start = word[0]\n",
    "        end = word[-1]\n",
    "        others = random.sample(list(word[1:-1]), len(word[1:-1]))\n",
    "        return ''.join([start] + others + [end])\n",
    "\n",
    "\n",
    "text = 'I couldn’t believe that I could actually understand what I was reading : the phenomenal power of the human mind .'\n",
    "ans = [shuffleWord(w) for w in text.split()]\n",
    "print(ans)"
   ]
  },
  {
   "cell_type": "code",
   "execution_count": null,
   "metadata": {},
   "outputs": [],
   "source": []
  }
 ],
 "metadata": {
  "language_info": {
   "codemirror_mode": {
    "name": "ipython",
    "version": 3
   },
   "file_extension": ".py",
   "mimetype": "text/x-python",
   "name": "python",
   "nbconvert_exporter": "python",
   "pygments_lexer": "ipython3",
   "version": "3.6.4-final"
  },
  "orig_nbformat": 2,
  "kernelspec": {
   "name": "06459f97-dc20-4bca-b67d-a43c58ee31b1",
   "display_name": "'Python Interactive'"
  }
 },
 "nbformat": 4,
 "nbformat_minor": 2
}